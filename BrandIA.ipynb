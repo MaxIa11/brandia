{
 "cells": [
  {
   "cell_type": "markdown",
   "id": "84912204-2ed0-49b3-9c49-5cae53f2f9ca",
   "metadata": {},
   "source": [
    "Pre-entrega #2\n",
    "BrandIA"
   ]
  },
  {
   "cell_type": "markdown",
   "id": "c65bbef5-b320-41a4-90c3-32d1c26fb7c9",
   "metadata": {},
   "source": [
    "Problema: Falta de diferenciación en el mercado de un branding para un proyecto nuevo."
   ]
  },
  {
   "cell_type": "markdown",
   "id": "c19ab7c5-6641-4a6b-ba18-2dd156c0aa6b",
   "metadata": {},
   "source": [
    "Solución: IA que al ingresar el nombre de tu proyecto y el rubro de la empresa, pueda sugerir diferentes ideas de logos, slogans y branding completos."
   ]
  },
  {
   "cell_type": "markdown",
   "id": "d9be2473-f6c1-47be-a39d-b61e9b12f779",
   "metadata": {},
   "source": [
    "Viabilidad: Alta, ya que la IA permite crear branding, logos y slogans de impacto de manera eficiente y rápida, optimizando recursos y tiempo. Esto facilita a nuevas empresas establecer una identidad fuerte y competitiva en el mercado con una inversión mínima."
   ]
  },
  {
   "cell_type": "markdown",
   "id": "a2a6f4b3-a6e2-4ed3-9d4b-7dde763629e2",
   "metadata": {},
   "source": [
    "Objetivo: Que los usuarios encuentren una nueva identidad para sus nuevos proyectos y marcas."
   ]
  },
  {
   "cell_type": "markdown",
   "id": "7ba05ec8-e270-426f-b12b-dae80c72a729",
   "metadata": {},
   "source": [
    "Metodología: El usuario introduce el nombre del proyecto y rubro, el modelo de IA se encarga de analizar la información y genera varias propuestas. El usuario puede revisar y elegir la opción que mejor se adapte a su visión."
   ]
  },
  {
   "cell_type": "markdown",
   "id": "e2da18d9-e950-4522-87ae-88edeb5a57c5",
   "metadata": {},
   "source": [
    "Herramientas y tecnologías: Python, OpenAI GPT-3.5-turbo y de imagen."
   ]
  },
  {
   "cell_type": "markdown",
   "id": "5a38203a-c28f-4784-9627-eb319f49fecf",
   "metadata": {},
   "source": [
    "Implementación:"
   ]
  },
  {
   "cell_type": "code",
   "execution_count": null,
   "id": "e0fe2749-5d3e-4397-8144-2409c53134aa",
   "metadata": {},
   "outputs": [],
   "source": [
    "#Import openAI dependences (module)\n",
    "import openai\n",
    "import requests\n",
    "import os\n",
    "from io import BytesIO\n",
    "from PIL import Image"
   ]
  },
  {
   "cell_type": "code",
   "execution_count": null,
   "id": "388303cc-b69b-4761-95c9-27b03a7f8f87",
   "metadata": {},
   "outputs": [],
   "source": [
    "#Add our API Key copied from openAI page\n",
    "openai.api_key = \"\" #Example -> dw-bQyr9128F49VJRNKAnST32lbkFJ2Zv4qEhWo4R0Xh6yrh15"
   ]
  },
  {
   "cell_type": "code",
   "execution_count": null,
   "id": "1e83fa0e-cb2a-47ee-bd12-f63e1bfb6c8e",
   "metadata": {},
   "outputs": [],
   "source": [
    "#Make the context of our prompt envoirement\n",
    "context = 'Eres un especialista en creacion de branding a partir de una frase la cual puede ser inconclusa o no, relevante al nombre del proyecto y rubro ingresado. Además vas a crear un slogan que acompañará la imágen de la marca. Tendras la capacidad de crear un prompt descriptivo para la creacion de una imagen en otro modelo de IA'\n",
    "\n",
    "#prompt (text/user's question)\n",
    "prompt = input(\"Ingrese el nombre de su proyecto y rubro: \")\\\n",
    "\n",
    "#print(prompt)"
   ]
  },
  {
   "cell_type": "code",
   "execution_count": null,
   "id": "0a3eb0ba-043e-41e7-acc8-c356cf9e6aaa",
   "metadata": {},
   "outputs": [],
   "source": [
    "# Make the request\n",
    "conversation = [\n",
    "    {\"role\": \"system\", \"content\": context},\n",
    "    {\"role\": \"user\", \"content\": prompt}\n",
    "]\n",
    "\n",
    "response = openai.ChatCompletion.create(\n",
    "    model='gpt-3.5-turbo',\n",
    "    messages=conversation,\n",
    "    max_tokens=500\n",
    ")\n",
    "\n",
    "message = response.choices[0]['message']\n",
    "print(\"{}: {}\".format(message['role'], message['content']))"
   ]
  },
  {
   "cell_type": "code",
   "execution_count": null,
   "id": "fbcfdff2-867d-4403-8cbd-6d4245cde6ec",
   "metadata": {},
   "outputs": [],
   "source": [
    "#Storage the response in a variable to use it\n",
    "logo_description_made = response['choices'][0]['message']['content'].strip()\n",
    "\n",
    "#Use the variable\n",
    "print(\"Prompt para crear su branding:\", logo_description_made)"
   ]
  },
  {
   "cell_type": "code",
   "execution_count": null,
   "id": "31524430-3c14-48ab-85be-7466c0fc7068",
   "metadata": {},
   "outputs": [],
   "source": [
    "# Now use story_made as the context for a new prompt\n",
    "logo_from_phase = f\"En base al texto anterior, crea 5 imagenes que representen el branding descrito: {logo_description_made}\"\n",
    "\n",
    "# Add the new user message with the image prompt\n",
    "conversation.append({\"role\": \"user\", \"content\": logo_from_phase})\n",
    "\n",
    "# Make the request for the image prompt\n",
    "image_response = openai.Image.create(\n",
    "    prompt=logo_from_phase,\n",
    "    n=1,\n",
    "    size=\"1024x1024\"\n",
    ")\n",
    "\n",
    "# Get and print the generated image URL\n",
    "print(image_response['data'][0]['url'])"
   ]
  },
  {
   "cell_type": "code",
   "execution_count": null,
   "id": "304531aa-2d76-4c65-99ff-d3024fc4ed5b",
   "metadata": {},
   "outputs": [],
   "source": [
    "# Download the logo\n",
    "response = requests.get(image_response['data'][0]['url'])\n",
    "\n",
    "# Verify if possible to download\n",
    "if response.status_code == 200:\n",
    "    # Get filename\n",
    "    filename = os.path.basename(image_response['data'][0]['url'])\n",
    "        # Agregar la extensión \".png\"\n",
    "    filename += \".png\"\n",
    "    \n",
    "    # Directory to save the image\n",
    "    directory = \"./generated_images/\"\n",
    "    \n",
    "    # Make directory if not exists\n",
    "    if not os.path.exists(directory):\n",
    "        os.makedirs(directory)\n",
    "    \n",
    "    # Complete path\n",
    "    filepath = os.path.join(directory, filename)\n",
    "    \n",
    "    # Save the image\n",
    "    with open(filepath, 'wb') as f:\n",
    "        f.write(response.content)\n",
    "        \n",
    "    print(\"La imagen ha sido descargada y almacenada correctamente en:\", filepath)\n",
    "    img = Image.open(filepath)\n",
    "    print(f\"Prompt utilizado: {logo_description_made}\")\n",
    "    display(img)\n",
    "\n",
    "else:\n",
    "    print(\"Hubo un error al descargar la imagen.\")"
   ]
  }
 ],
 "metadata": {
  "kernelspec": {
   "display_name": "Python 3 (ipykernel)",
   "language": "python",
   "name": "python3"
  },
  "language_info": {
   "codemirror_mode": {
    "name": "ipython",
    "version": 3
   },
   "file_extension": ".py",
   "mimetype": "text/x-python",
   "name": "python",
   "nbconvert_exporter": "python",
   "pygments_lexer": "ipython3",
   "version": "3.10.14"
  }
 },
 "nbformat": 4,
 "nbformat_minor": 5
}
