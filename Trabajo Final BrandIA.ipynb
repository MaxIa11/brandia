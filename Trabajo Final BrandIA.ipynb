{
 "cells": [
  {
   "cell_type": "code",
   "execution_count": null,
   "id": "4605d934-4e89-4943-9985-2c93ded2b67d",
   "metadata": {},
   "outputs": [],
   "source": [
    "#Entrega trabajo final \n",
    "##Solución: IA que al ingresar el nombre de tu proyecto y el rubro de la empresa, pueda sugerir diferentes ideas de logos, slogans y branding completos.\n",
    "##Viabilidad: Alta, ya que la IA permite crear branding, logos y slogans de impacto de manera eficiente y rápida, optimizando recursos y tiempo. Esto facilita a nuevas empresas establecer una identidad fuerte y competitiva en el mercado con una inversión mínima.\n",
    "##Objetivo: Que los usuarios encuentren una nueva identidad para sus nuevos proyectos y marcas.\n",
    "##Metodología: El usuario introduce el nombre del proyecto y rubro, el modelo de IA se encarga de analizar la información y genera varias propuestas. El usuario puede revisar y elegir la opción que mejor se adapte a su visión.\n",
    "##Herramientas y tecnologías: Python, OpenAI GPT-3.5-turbo y de imagen.\n",
    "###Implementación"
   ]
  },
  {
   "cell_type": "markdown",
   "id": "f48d1e4f-5bf0-4291-9f10-e4fa452dfee6",
   "metadata": {},
   "source": [
    "1. Import openAI dependences (load with conda install openai)"
   ]
  },
  {
   "cell_type": "code",
   "execution_count": 1,
   "id": "6f5e6bba-f9b0-4d27-a0c2-ceede346e2fd",
   "metadata": {
    "scrolled": true
   },
   "outputs": [],
   "source": [
    "#Import openAI dependences (module)\n",
    "import openai"
   ]
  },
  {
   "cell_type": "markdown",
   "id": "6180968b-5de0-4e1d-91e1-bb0607b62ebe",
   "metadata": {},
   "source": [
    "2. Use the API Key from openAI page"
   ]
  },
  {
   "cell_type": "code",
   "execution_count": 2,
   "id": "aaa13f6c-6aee-4ddd-92b7-33dbbf66ea3c",
   "metadata": {},
   "outputs": [],
   "source": [
    "# API key\n",
    "openai.api_key = \"\" #Example -> dw-bQyr9128F49VJRNKAnST32lbkFJ2Zv4qEhWo4R0Xh6yrh15"
   ]
  },
  {
   "cell_type": "markdown",
   "id": "133396b5-0a78-4b9a-a1c0-8c81d7744f9b",
   "metadata": {},
   "source": [
    "3. Make a request"
   ]
  },
  {
   "cell_type": "code",
   "execution_count": 18,
   "id": "f7c1fc76-a9ea-4df9-9324-d83bba8bfc0c",
   "metadata": {
    "scrolled": true
   },
   "outputs": [
    {
     "name": "stdin",
     "output_type": "stream",
     "text": [
      "Ingrese nombre del negocio para crear su slogan y prompt para generación de logo:  Napolés y Co\n"
     ]
    }
   ],
   "source": [
    "# Contexto\n",
    "context = 'Eres un especialista en branding de marca, creación de logos y slogans para posicionamiento de nuevos negocios, a partir del nombre del local y su rubro en el mercado. Tendrás la capacidad de crear un slogan y un prompt para la creación de una imagen del logo en otro modelo de IA.'\n",
    " \n",
    "# Prompt (pregunta del usuario)\n",
    "prompt = input(\"Ingrese nombre del negocio para crear su slogan y prompt para generación de logo: \")"
   ]
  },
  {
   "cell_type": "markdown",
   "id": "a42ce140-d99c-492e-ad64-9de2719ea75e",
   "metadata": {},
   "source": [
    "4. Settings"
   ]
  },
  {
   "cell_type": "code",
   "execution_count": 19,
   "id": "1ce51fc0-ce3e-4db1-8ab5-4d9447252af9",
   "metadata": {},
   "outputs": [
    {
     "name": "stdout",
     "output_type": "stream",
     "text": [
      "assistant: ¡Claro! Con el nombre \"Napolés y Co\", que suena a un negocio relacionado con la comida italiana, te sugiero el siguiente slogan: \"Sabores auténticos, recetas tradicionales\". \n",
      "\n",
      "Para el logo, imagino una combinación de colores cálidos como el rojo, verde y blanco, representativos de la bandera italiana. También podrías incluir elementos como una rebanada de pizza, una botella de aceite de oliva y hojas de albahaca para darle un toque más auténtico. ¡Espero que estas ideas te inspiren para crear un logo único y atractivo para \"Napolés y Co\"!\n"
     ]
    }
   ],
   "source": [
    "# Make the request\n",
    "conversation = [\n",
    "    {\"role\": \"system\", \"content\": context},\n",
    "    {\"role\": \"user\", \"content\": prompt}\n",
    "]\n",
    "\n",
    "response = openai.ChatCompletion.create(\n",
    "    model='gpt-3.5-turbo',\n",
    "    messages=conversation,\n",
    "    max_tokens=500\n",
    ")\n",
    "\n",
    "message = response.choices[0]['message']\n",
    "print(\"{}: {}\".format(message['role'], message['content']))"
   ]
  },
  {
   "cell_type": "markdown",
   "id": "1e57d4c6-d1aa-48fc-80dd-530bfcebab65",
   "metadata": {},
   "source": [
    "5. Storage the response in any variable & make the model"
   ]
  },
  {
   "cell_type": "code",
   "execution_count": 20,
   "id": "abb2ce41-0dc8-46f9-8137-aca58604bcbf",
   "metadata": {},
   "outputs": [
    {
     "name": "stdout",
     "output_type": "stream",
     "text": [
      "Prompt para crear el logo: ¡Claro! Con el nombre \"Napolés y Co\", que suena a un negocio relacionado con la comida italiana, te sugiero el siguiente slogan: \"Sabores auténticos, recetas tradicionales\". \n",
      "\n",
      "Para el logo, imagino una combinación de colores cálidos como el rojo, verde y blanco, representativos de la bandera italiana. También podrías incluir elementos como una rebanada de pizza, una botella de aceite de oliva y hojas de albahaca para darle un toque más auténtico. ¡Espero que estas ideas te inspiren para crear un logo único y atractivo para \"Napolés y Co\"!\n"
     ]
    }
   ],
   "source": [
    "#Storage the response in a variable to use it\n",
    "logo_description_made = response['choices'][0]['message']['content'].strip()\n",
    "\n",
    "#Use the variable\n",
    "print(\"Prompt para crear el logo:\", logo_description_made)\n"
   ]
  },
  {
   "cell_type": "code",
   "execution_count": 29,
   "id": "dfd2af83-1752-4610-96f5-4f3d9bfed01d",
   "metadata": {},
   "outputs": [
    {
     "name": "stdout",
     "output_type": "stream",
     "text": [
      "https://oaidalleapiprodscus.blob.core.windows.net/private/org-HjfQfyuJLnelcNmJUHpbuLVR/user-9z3LW6iEN0r8FbQtXPHVCyWA/img-C4YvUFyBTn8ivuLNcCs5BfPP.png?st=2024-10-26T01%3A19%3A49Z&se=2024-10-26T03%3A19%3A49Z&sp=r&sv=2024-08-04&sr=b&rscd=inline&rsct=image/png&skoid=d505667d-d6c1-4a0a-bac7-5c84a87759f8&sktid=a48cca56-e6da-484e-a814-9c849652bcb3&skt=2024-10-25T09%3A48%3A02Z&ske=2024-10-26T09%3A48%3A02Z&sks=b&skv=2024-08-04&sig=NjUu8DbctB3ELtjL4OwXfw/sJjZf3opBcEzEJxHrIPw%3D\n"
     ]
    }
   ],
   "source": [
    "# Now use story_made as the context for a new prompt\n",
    "logo_from_phase = f\"En base a la frase anterior, crea una imagen que represente el logo descrito: {logo_description_made}\"\n",
    "\n",
    "# Add the new user message with the image prompt\n",
    "conversation.append({\"role\": \"user\", \"content\": logo_from_phase})\n",
    "\n",
    "# Make the request for the image prompt\n",
    "image_response = openai.Image.create(\n",
    "    prompt=logo_from_phase,\n",
    "    n=1,\n",
    "    size=\"1024x1024\"\n",
    ")\n",
    "\n",
    "# Get and print the generated image URL\n",
    "print(image_response['data'][0]['url'])"
   ]
  },
  {
   "cell_type": "code",
   "execution_count": null,
   "id": "864f65cf-fd69-41e6-931f-bc0c41dab395",
   "metadata": {},
   "outputs": [],
   "source": []
  }
 ],
 "metadata": {
  "kernelspec": {
   "display_name": "Python 3 (ipykernel)",
   "language": "python",
   "name": "python3"
  },
  "language_info": {
   "codemirror_mode": {
    "name": "ipython",
    "version": 3
   },
   "file_extension": ".py",
   "mimetype": "text/x-python",
   "name": "python",
   "nbconvert_exporter": "python",
   "pygments_lexer": "ipython3",
   "version": "3.10.14"
  }
 },
 "nbformat": 4,
 "nbformat_minor": 5
}
